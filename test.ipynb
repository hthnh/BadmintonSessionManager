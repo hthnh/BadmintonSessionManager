{
 "cells": [
  {
   "cell_type": "code",
   "execution_count": 4,
   "id": "d077e3b3",
   "metadata": {},
   "outputs": [],
   "source": [
    "\n",
    "SCALING_FACTOR = 400\n",
    "ELO_BASE = 10\n",
    "def _calculate_elo_change(player_a1_elo, player_a2_elo, player_b1_elo, player_b2_elo, result, k_factor=32):\n",
    "    \"\"\"\n",
    "    Tính toán sự thay đổi ELO cho Đội A.\n",
    "    - result: 1 nếu Đội A thắng, 0 nếu Đội A thua.\n",
    "    \"\"\"\n",
    "    elo_team_a = (player_a1_elo + player_a2_elo) / 2\n",
    "    elo_team_b = (player_b1_elo + player_b2_elo) / 2\n",
    "\n",
    "    expected_a = 1 / (1 + ELO_BASE**((elo_team_b - elo_team_a) / SCALING_FACTOR))\n",
    "\n",
    "    # Tính toán lượng ELO thay đổi\n",
    "    elo_change = k_factor * (result - expected_a)\n",
    "    return elo_change\n"
   ]
  },
  {
   "cell_type": "code",
   "execution_count": 11,
   "id": "b94090e0",
   "metadata": {},
   "outputs": [
    {
     "data": {
      "text/plain": [
       "15.079981955447405"
      ]
     },
     "execution_count": 11,
     "metadata": {},
     "output_type": "execute_result"
    }
   ],
   "source": [
    "_calculate_elo_change(50,50,20,40,1,32)"
   ]
  }
 ],
 "metadata": {
  "kernelspec": {
   "display_name": "Python 3",
   "language": "python",
   "name": "python3"
  },
  "language_info": {
   "codemirror_mode": {
    "name": "ipython",
    "version": 3
   },
   "file_extension": ".py",
   "mimetype": "text/x-python",
   "name": "python",
   "nbconvert_exporter": "python",
   "pygments_lexer": "ipython3",
   "version": "3.12.5"
  }
 },
 "nbformat": 4,
 "nbformat_minor": 5
}
